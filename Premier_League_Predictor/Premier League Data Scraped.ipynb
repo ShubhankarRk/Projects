{
  "cells": [
    {
      "cell_type": "code",
      "execution_count": null,
      "metadata": {
        "id": "lTLGkiFi3day"
      },
      "outputs": [],
      "source": [
        "import requests"
      ]
    },
    {
      "cell_type": "code",
      "execution_count": null,
      "metadata": {
        "id": "9l-8dRRO3eot"
      },
      "outputs": [],
      "source": [
        "standings_url = \"https://fbref.com/en/comps/9/Premier-League-Stats\""
      ]
    },
    {
      "cell_type": "code",
      "execution_count": null,
      "metadata": {
        "id": "o4hYrw9B3kve"
      },
      "outputs": [],
      "source": [
        "data = requests.get(standings_url)"
      ]
    },
    {
      "cell_type": "code",
      "execution_count": null,
      "metadata": {
        "id": "Rv1JptbH3mxe"
      },
      "outputs": [],
      "source": [
        "from bs4 import BeautifulSoup"
      ]
    },
    {
      "cell_type": "code",
      "execution_count": null,
      "metadata": {
        "id": "z5PRJ14h3ovR"
      },
      "outputs": [],
      "source": [
        "soup = BeautifulSoup(data.text)"
      ]
    },
    {
      "cell_type": "code",
      "execution_count": null,
      "metadata": {
        "id": "V-HUvb9_3qgD"
      },
      "outputs": [],
      "source": [
        "standings_table = soup.select('table.stats_table')[0]"
      ]
    },
    {
      "cell_type": "code",
      "execution_count": null,
      "metadata": {
        "id": "5GqsK_nf3si8"
      },
      "outputs": [],
      "source": [
        "links = standings_table.find_all('a')\n",
        "links = [l.get(\"href\") for l in links]\n",
        "links = [l for l in links if '/squads/' in l]"
      ]
    },
    {
      "cell_type": "code",
      "execution_count": null,
      "metadata": {
        "id": "8xhisT2t32PG"
      },
      "outputs": [],
      "source": [
        "team_urls = [f\"https://fbref.com{l}\" for l in links]"
      ]
    },
    {
      "cell_type": "code",
      "execution_count": null,
      "metadata": {
        "id": "yK8Qdn-W363y"
      },
      "outputs": [],
      "source": [
        "data = requests.get(team_urls[0])"
      ]
    },
    {
      "cell_type": "code",
      "execution_count": null,
      "metadata": {
        "id": "Qwev8wn53_ly"
      },
      "outputs": [],
      "source": [
        "import pandas as pd\n",
        "matches = pd.read_html(data.text, match=\"Scores & Fixtures\")[0]"
      ]
    },
    {
      "cell_type": "code",
      "execution_count": null,
      "metadata": {
        "id": "wWNZw2Jb4CTb"
      },
      "outputs": [],
      "source": [
        "soup = BeautifulSoup(data.text)\n",
        "links = soup.find_all('a')\n",
        "links = [l.get(\"href\") for l in links]\n",
        "links = [l for l in links if l and 'all_comps/shooting/' in l]"
      ]
    },
    {
      "cell_type": "code",
      "execution_count": null,
      "metadata": {
        "id": "60XIXFIy4E2z"
      },
      "outputs": [],
      "source": [
        "data = requests.get(f\"https://fbref.com{links[0]}\")"
      ]
    },
    {
      "cell_type": "code",
      "execution_count": null,
      "metadata": {
        "id": "UcCzeA6j4Gxb"
      },
      "outputs": [],
      "source": [
        "shooting = pd.read_html(data.text, match=\"Shooting\")[0]"
      ]
    },
    {
      "cell_type": "code",
      "execution_count": null,
      "metadata": {
        "id": "emMNYbPp4IwS",
        "outputId": "a41864ef-fa58-4594-e897-6fa4def5e659",
        "colab": {
          "base_uri": "https://localhost:8080/",
          "height": 267
        }
      },
      "outputs": [
        {
          "output_type": "execute_result",
          "data": {
            "text/plain": [
              "  For Arsenal                                                              \\\n",
              "         Date   Time            Comp        Round  Day Venue Result GF GA   \n",
              "0  2022-08-05  20:00  Premier League  Matchweek 1  Fri  Away      W  2  0   \n",
              "1  2022-08-13  15:00  Premier League  Matchweek 2  Sat  Home      W  4  2   \n",
              "2  2022-08-20  17:30  Premier League  Matchweek 3  Sat  Away      W  3  0   \n",
              "3  2022-08-27  17:30  Premier League  Matchweek 4  Sat  Home      W  2  1   \n",
              "4  2022-08-31  19:30  Premier League  Matchweek 5  Wed  Home      W  2  1   \n",
              "\n",
              "                   ... Standard               Expected                    \\\n",
              "         Opponent  ...     Dist   FK PK PKatt       xG npxG npxG/Sh G-xG   \n",
              "0  Crystal Palace  ...     14.6  1.0  0     0      1.0  1.0    0.10  0.0   \n",
              "1  Leicester City  ...     13.0  0.0  0     0      2.7  2.7    0.16  1.3   \n",
              "2     Bournemouth  ...     14.8  0.0  0     0      1.3  1.3    0.10  1.7   \n",
              "3          Fulham  ...     15.5  1.0  0     0      2.6  2.6    0.12 -0.6   \n",
              "4     Aston Villa  ...     16.3  1.0  0     0      2.4  2.4    0.12 -0.4   \n",
              "\n",
              "          Unnamed: 25_level_0  \n",
              "  np:G-xG        Match Report  \n",
              "0     0.0        Match Report  \n",
              "1     1.3        Match Report  \n",
              "2     1.7        Match Report  \n",
              "3    -0.6        Match Report  \n",
              "4    -0.4        Match Report  \n",
              "\n",
              "[5 rows x 26 columns]"
            ],
            "text/html": [
              "\n",
              "  <div id=\"df-1ff56d3d-2aaf-4df2-a480-47bb17b6dd2d\">\n",
              "    <div class=\"colab-df-container\">\n",
              "      <div>\n",
              "<style scoped>\n",
              "    .dataframe tbody tr th:only-of-type {\n",
              "        vertical-align: middle;\n",
              "    }\n",
              "\n",
              "    .dataframe tbody tr th {\n",
              "        vertical-align: top;\n",
              "    }\n",
              "\n",
              "    .dataframe thead tr th {\n",
              "        text-align: left;\n",
              "    }\n",
              "</style>\n",
              "<table border=\"1\" class=\"dataframe\">\n",
              "  <thead>\n",
              "    <tr>\n",
              "      <th></th>\n",
              "      <th colspan=\"10\" halign=\"left\">For Arsenal</th>\n",
              "      <th>...</th>\n",
              "      <th colspan=\"4\" halign=\"left\">Standard</th>\n",
              "      <th colspan=\"5\" halign=\"left\">Expected</th>\n",
              "      <th>Unnamed: 25_level_0</th>\n",
              "    </tr>\n",
              "    <tr>\n",
              "      <th></th>\n",
              "      <th>Date</th>\n",
              "      <th>Time</th>\n",
              "      <th>Comp</th>\n",
              "      <th>Round</th>\n",
              "      <th>Day</th>\n",
              "      <th>Venue</th>\n",
              "      <th>Result</th>\n",
              "      <th>GF</th>\n",
              "      <th>GA</th>\n",
              "      <th>Opponent</th>\n",
              "      <th>...</th>\n",
              "      <th>Dist</th>\n",
              "      <th>FK</th>\n",
              "      <th>PK</th>\n",
              "      <th>PKatt</th>\n",
              "      <th>xG</th>\n",
              "      <th>npxG</th>\n",
              "      <th>npxG/Sh</th>\n",
              "      <th>G-xG</th>\n",
              "      <th>np:G-xG</th>\n",
              "      <th>Match Report</th>\n",
              "    </tr>\n",
              "  </thead>\n",
              "  <tbody>\n",
              "    <tr>\n",
              "      <th>0</th>\n",
              "      <td>2022-08-05</td>\n",
              "      <td>20:00</td>\n",
              "      <td>Premier League</td>\n",
              "      <td>Matchweek 1</td>\n",
              "      <td>Fri</td>\n",
              "      <td>Away</td>\n",
              "      <td>W</td>\n",
              "      <td>2</td>\n",
              "      <td>0</td>\n",
              "      <td>Crystal Palace</td>\n",
              "      <td>...</td>\n",
              "      <td>14.6</td>\n",
              "      <td>1.0</td>\n",
              "      <td>0</td>\n",
              "      <td>0</td>\n",
              "      <td>1.0</td>\n",
              "      <td>1.0</td>\n",
              "      <td>0.10</td>\n",
              "      <td>0.0</td>\n",
              "      <td>0.0</td>\n",
              "      <td>Match Report</td>\n",
              "    </tr>\n",
              "    <tr>\n",
              "      <th>1</th>\n",
              "      <td>2022-08-13</td>\n",
              "      <td>15:00</td>\n",
              "      <td>Premier League</td>\n",
              "      <td>Matchweek 2</td>\n",
              "      <td>Sat</td>\n",
              "      <td>Home</td>\n",
              "      <td>W</td>\n",
              "      <td>4</td>\n",
              "      <td>2</td>\n",
              "      <td>Leicester City</td>\n",
              "      <td>...</td>\n",
              "      <td>13.0</td>\n",
              "      <td>0.0</td>\n",
              "      <td>0</td>\n",
              "      <td>0</td>\n",
              "      <td>2.7</td>\n",
              "      <td>2.7</td>\n",
              "      <td>0.16</td>\n",
              "      <td>1.3</td>\n",
              "      <td>1.3</td>\n",
              "      <td>Match Report</td>\n",
              "    </tr>\n",
              "    <tr>\n",
              "      <th>2</th>\n",
              "      <td>2022-08-20</td>\n",
              "      <td>17:30</td>\n",
              "      <td>Premier League</td>\n",
              "      <td>Matchweek 3</td>\n",
              "      <td>Sat</td>\n",
              "      <td>Away</td>\n",
              "      <td>W</td>\n",
              "      <td>3</td>\n",
              "      <td>0</td>\n",
              "      <td>Bournemouth</td>\n",
              "      <td>...</td>\n",
              "      <td>14.8</td>\n",
              "      <td>0.0</td>\n",
              "      <td>0</td>\n",
              "      <td>0</td>\n",
              "      <td>1.3</td>\n",
              "      <td>1.3</td>\n",
              "      <td>0.10</td>\n",
              "      <td>1.7</td>\n",
              "      <td>1.7</td>\n",
              "      <td>Match Report</td>\n",
              "    </tr>\n",
              "    <tr>\n",
              "      <th>3</th>\n",
              "      <td>2022-08-27</td>\n",
              "      <td>17:30</td>\n",
              "      <td>Premier League</td>\n",
              "      <td>Matchweek 4</td>\n",
              "      <td>Sat</td>\n",
              "      <td>Home</td>\n",
              "      <td>W</td>\n",
              "      <td>2</td>\n",
              "      <td>1</td>\n",
              "      <td>Fulham</td>\n",
              "      <td>...</td>\n",
              "      <td>15.5</td>\n",
              "      <td>1.0</td>\n",
              "      <td>0</td>\n",
              "      <td>0</td>\n",
              "      <td>2.6</td>\n",
              "      <td>2.6</td>\n",
              "      <td>0.12</td>\n",
              "      <td>-0.6</td>\n",
              "      <td>-0.6</td>\n",
              "      <td>Match Report</td>\n",
              "    </tr>\n",
              "    <tr>\n",
              "      <th>4</th>\n",
              "      <td>2022-08-31</td>\n",
              "      <td>19:30</td>\n",
              "      <td>Premier League</td>\n",
              "      <td>Matchweek 5</td>\n",
              "      <td>Wed</td>\n",
              "      <td>Home</td>\n",
              "      <td>W</td>\n",
              "      <td>2</td>\n",
              "      <td>1</td>\n",
              "      <td>Aston Villa</td>\n",
              "      <td>...</td>\n",
              "      <td>16.3</td>\n",
              "      <td>1.0</td>\n",
              "      <td>0</td>\n",
              "      <td>0</td>\n",
              "      <td>2.4</td>\n",
              "      <td>2.4</td>\n",
              "      <td>0.12</td>\n",
              "      <td>-0.4</td>\n",
              "      <td>-0.4</td>\n",
              "      <td>Match Report</td>\n",
              "    </tr>\n",
              "  </tbody>\n",
              "</table>\n",
              "<p>5 rows × 26 columns</p>\n",
              "</div>\n",
              "      <button class=\"colab-df-convert\" onclick=\"convertToInteractive('df-1ff56d3d-2aaf-4df2-a480-47bb17b6dd2d')\"\n",
              "              title=\"Convert this dataframe to an interactive table.\"\n",
              "              style=\"display:none;\">\n",
              "        \n",
              "  <svg xmlns=\"http://www.w3.org/2000/svg\" height=\"24px\"viewBox=\"0 0 24 24\"\n",
              "       width=\"24px\">\n",
              "    <path d=\"M0 0h24v24H0V0z\" fill=\"none\"/>\n",
              "    <path d=\"M18.56 5.44l.94 2.06.94-2.06 2.06-.94-2.06-.94-.94-2.06-.94 2.06-2.06.94zm-11 1L8.5 8.5l.94-2.06 2.06-.94-2.06-.94L8.5 2.5l-.94 2.06-2.06.94zm10 10l.94 2.06.94-2.06 2.06-.94-2.06-.94-.94-2.06-.94 2.06-2.06.94z\"/><path d=\"M17.41 7.96l-1.37-1.37c-.4-.4-.92-.59-1.43-.59-.52 0-1.04.2-1.43.59L10.3 9.45l-7.72 7.72c-.78.78-.78 2.05 0 2.83L4 21.41c.39.39.9.59 1.41.59.51 0 1.02-.2 1.41-.59l7.78-7.78 2.81-2.81c.8-.78.8-2.07 0-2.86zM5.41 20L4 18.59l7.72-7.72 1.47 1.35L5.41 20z\"/>\n",
              "  </svg>\n",
              "      </button>\n",
              "      \n",
              "  <style>\n",
              "    .colab-df-container {\n",
              "      display:flex;\n",
              "      flex-wrap:wrap;\n",
              "      gap: 12px;\n",
              "    }\n",
              "\n",
              "    .colab-df-convert {\n",
              "      background-color: #E8F0FE;\n",
              "      border: none;\n",
              "      border-radius: 50%;\n",
              "      cursor: pointer;\n",
              "      display: none;\n",
              "      fill: #1967D2;\n",
              "      height: 32px;\n",
              "      padding: 0 0 0 0;\n",
              "      width: 32px;\n",
              "    }\n",
              "\n",
              "    .colab-df-convert:hover {\n",
              "      background-color: #E2EBFA;\n",
              "      box-shadow: 0px 1px 2px rgba(60, 64, 67, 0.3), 0px 1px 3px 1px rgba(60, 64, 67, 0.15);\n",
              "      fill: #174EA6;\n",
              "    }\n",
              "\n",
              "    [theme=dark] .colab-df-convert {\n",
              "      background-color: #3B4455;\n",
              "      fill: #D2E3FC;\n",
              "    }\n",
              "\n",
              "    [theme=dark] .colab-df-convert:hover {\n",
              "      background-color: #434B5C;\n",
              "      box-shadow: 0px 1px 3px 1px rgba(0, 0, 0, 0.15);\n",
              "      filter: drop-shadow(0px 1px 2px rgba(0, 0, 0, 0.3));\n",
              "      fill: #FFFFFF;\n",
              "    }\n",
              "  </style>\n",
              "\n",
              "      <script>\n",
              "        const buttonEl =\n",
              "          document.querySelector('#df-1ff56d3d-2aaf-4df2-a480-47bb17b6dd2d button.colab-df-convert');\n",
              "        buttonEl.style.display =\n",
              "          google.colab.kernel.accessAllowed ? 'block' : 'none';\n",
              "\n",
              "        async function convertToInteractive(key) {\n",
              "          const element = document.querySelector('#df-1ff56d3d-2aaf-4df2-a480-47bb17b6dd2d');\n",
              "          const dataTable =\n",
              "            await google.colab.kernel.invokeFunction('convertToInteractive',\n",
              "                                                     [key], {});\n",
              "          if (!dataTable) return;\n",
              "\n",
              "          const docLinkHtml = 'Like what you see? Visit the ' +\n",
              "            '<a target=\"_blank\" href=https://colab.research.google.com/notebooks/data_table.ipynb>data table notebook</a>'\n",
              "            + ' to learn more about interactive tables.';\n",
              "          element.innerHTML = '';\n",
              "          dataTable['output_type'] = 'display_data';\n",
              "          await google.colab.output.renderOutput(dataTable, element);\n",
              "          const docLink = document.createElement('div');\n",
              "          docLink.innerHTML = docLinkHtml;\n",
              "          element.appendChild(docLink);\n",
              "        }\n",
              "      </script>\n",
              "    </div>\n",
              "  </div>\n",
              "  "
            ]
          },
          "metadata": {},
          "execution_count": 14
        }
      ],
      "source": [
        "shooting.head()"
      ]
    },
    {
      "cell_type": "code",
      "execution_count": null,
      "metadata": {
        "id": "73ge5vgX4KYi"
      },
      "outputs": [],
      "source": [
        "shooting.columns = shooting.columns.droplevel()"
      ]
    },
    {
      "cell_type": "code",
      "execution_count": null,
      "metadata": {
        "id": "k1aGudhG4SQT"
      },
      "outputs": [],
      "source": [
        "team_data = matches.merge(shooting[[\"Date\", \"Sh\", \"SoT\", \"Dist\", \"FK\", \"PK\", \"PKatt\"]], on=\"Date\")"
      ]
    },
    {
      "cell_type": "code",
      "execution_count": null,
      "metadata": {
        "id": "BM_muxkx4UU5",
        "outputId": "63aba1b8-c676-4d0b-8fc3-4eca8da8a7c0",
        "colab": {
          "base_uri": "https://localhost:8080/",
          "height": 236
        }
      },
      "outputs": [
        {
          "output_type": "execute_result",
          "data": {
            "text/plain": [
              "         Date   Time            Comp        Round  Day Venue Result   GF   GA  \\\n",
              "0  2022-08-05  20:00  Premier League  Matchweek 1  Fri  Away      W  2.0  0.0   \n",
              "1  2022-08-13  15:00  Premier League  Matchweek 2  Sat  Home      W  4.0  2.0   \n",
              "2  2022-08-20  17:30  Premier League  Matchweek 3  Sat  Away      W  3.0  0.0   \n",
              "3  2022-08-27  17:30  Premier League  Matchweek 4  Sat  Home      W  2.0  1.0   \n",
              "4  2022-08-31  19:30  Premier League  Matchweek 5  Wed  Home      W  2.0  1.0   \n",
              "\n",
              "         Opponent  ...  Formation         Referee  Match Report  Notes  Sh  \\\n",
              "0  Crystal Palace  ...      4-3-3  Anthony Taylor  Match Report    NaN  10   \n",
              "1  Leicester City  ...      4-3-3  Darren England  Match Report    NaN  19   \n",
              "2     Bournemouth  ...      4-3-3    Craig Pawson  Match Report    NaN  14   \n",
              "3          Fulham  ...      4-3-3  Jarred Gillett  Match Report    NaN  22   \n",
              "4     Aston Villa  ...      4-3-3    Robert Jones  Match Report    NaN  22   \n",
              "\n",
              "  SoT  Dist   FK PK  PKatt  \n",
              "0   2  14.6  1.0  0      0  \n",
              "1   7  13.0  0.0  0      0  \n",
              "2   6  14.8  0.0  0      0  \n",
              "3   8  15.5  1.0  0      0  \n",
              "4   8  16.3  1.0  0      0  \n",
              "\n",
              "[5 rows x 25 columns]"
            ],
            "text/html": [
              "\n",
              "  <div id=\"df-79ce0308-fe65-4b44-a9fa-31e71b3c6e4b\">\n",
              "    <div class=\"colab-df-container\">\n",
              "      <div>\n",
              "<style scoped>\n",
              "    .dataframe tbody tr th:only-of-type {\n",
              "        vertical-align: middle;\n",
              "    }\n",
              "\n",
              "    .dataframe tbody tr th {\n",
              "        vertical-align: top;\n",
              "    }\n",
              "\n",
              "    .dataframe thead th {\n",
              "        text-align: right;\n",
              "    }\n",
              "</style>\n",
              "<table border=\"1\" class=\"dataframe\">\n",
              "  <thead>\n",
              "    <tr style=\"text-align: right;\">\n",
              "      <th></th>\n",
              "      <th>Date</th>\n",
              "      <th>Time</th>\n",
              "      <th>Comp</th>\n",
              "      <th>Round</th>\n",
              "      <th>Day</th>\n",
              "      <th>Venue</th>\n",
              "      <th>Result</th>\n",
              "      <th>GF</th>\n",
              "      <th>GA</th>\n",
              "      <th>Opponent</th>\n",
              "      <th>...</th>\n",
              "      <th>Formation</th>\n",
              "      <th>Referee</th>\n",
              "      <th>Match Report</th>\n",
              "      <th>Notes</th>\n",
              "      <th>Sh</th>\n",
              "      <th>SoT</th>\n",
              "      <th>Dist</th>\n",
              "      <th>FK</th>\n",
              "      <th>PK</th>\n",
              "      <th>PKatt</th>\n",
              "    </tr>\n",
              "  </thead>\n",
              "  <tbody>\n",
              "    <tr>\n",
              "      <th>0</th>\n",
              "      <td>2022-08-05</td>\n",
              "      <td>20:00</td>\n",
              "      <td>Premier League</td>\n",
              "      <td>Matchweek 1</td>\n",
              "      <td>Fri</td>\n",
              "      <td>Away</td>\n",
              "      <td>W</td>\n",
              "      <td>2.0</td>\n",
              "      <td>0.0</td>\n",
              "      <td>Crystal Palace</td>\n",
              "      <td>...</td>\n",
              "      <td>4-3-3</td>\n",
              "      <td>Anthony Taylor</td>\n",
              "      <td>Match Report</td>\n",
              "      <td>NaN</td>\n",
              "      <td>10</td>\n",
              "      <td>2</td>\n",
              "      <td>14.6</td>\n",
              "      <td>1.0</td>\n",
              "      <td>0</td>\n",
              "      <td>0</td>\n",
              "    </tr>\n",
              "    <tr>\n",
              "      <th>1</th>\n",
              "      <td>2022-08-13</td>\n",
              "      <td>15:00</td>\n",
              "      <td>Premier League</td>\n",
              "      <td>Matchweek 2</td>\n",
              "      <td>Sat</td>\n",
              "      <td>Home</td>\n",
              "      <td>W</td>\n",
              "      <td>4.0</td>\n",
              "      <td>2.0</td>\n",
              "      <td>Leicester City</td>\n",
              "      <td>...</td>\n",
              "      <td>4-3-3</td>\n",
              "      <td>Darren England</td>\n",
              "      <td>Match Report</td>\n",
              "      <td>NaN</td>\n",
              "      <td>19</td>\n",
              "      <td>7</td>\n",
              "      <td>13.0</td>\n",
              "      <td>0.0</td>\n",
              "      <td>0</td>\n",
              "      <td>0</td>\n",
              "    </tr>\n",
              "    <tr>\n",
              "      <th>2</th>\n",
              "      <td>2022-08-20</td>\n",
              "      <td>17:30</td>\n",
              "      <td>Premier League</td>\n",
              "      <td>Matchweek 3</td>\n",
              "      <td>Sat</td>\n",
              "      <td>Away</td>\n",
              "      <td>W</td>\n",
              "      <td>3.0</td>\n",
              "      <td>0.0</td>\n",
              "      <td>Bournemouth</td>\n",
              "      <td>...</td>\n",
              "      <td>4-3-3</td>\n",
              "      <td>Craig Pawson</td>\n",
              "      <td>Match Report</td>\n",
              "      <td>NaN</td>\n",
              "      <td>14</td>\n",
              "      <td>6</td>\n",
              "      <td>14.8</td>\n",
              "      <td>0.0</td>\n",
              "      <td>0</td>\n",
              "      <td>0</td>\n",
              "    </tr>\n",
              "    <tr>\n",
              "      <th>3</th>\n",
              "      <td>2022-08-27</td>\n",
              "      <td>17:30</td>\n",
              "      <td>Premier League</td>\n",
              "      <td>Matchweek 4</td>\n",
              "      <td>Sat</td>\n",
              "      <td>Home</td>\n",
              "      <td>W</td>\n",
              "      <td>2.0</td>\n",
              "      <td>1.0</td>\n",
              "      <td>Fulham</td>\n",
              "      <td>...</td>\n",
              "      <td>4-3-3</td>\n",
              "      <td>Jarred Gillett</td>\n",
              "      <td>Match Report</td>\n",
              "      <td>NaN</td>\n",
              "      <td>22</td>\n",
              "      <td>8</td>\n",
              "      <td>15.5</td>\n",
              "      <td>1.0</td>\n",
              "      <td>0</td>\n",
              "      <td>0</td>\n",
              "    </tr>\n",
              "    <tr>\n",
              "      <th>4</th>\n",
              "      <td>2022-08-31</td>\n",
              "      <td>19:30</td>\n",
              "      <td>Premier League</td>\n",
              "      <td>Matchweek 5</td>\n",
              "      <td>Wed</td>\n",
              "      <td>Home</td>\n",
              "      <td>W</td>\n",
              "      <td>2.0</td>\n",
              "      <td>1.0</td>\n",
              "      <td>Aston Villa</td>\n",
              "      <td>...</td>\n",
              "      <td>4-3-3</td>\n",
              "      <td>Robert Jones</td>\n",
              "      <td>Match Report</td>\n",
              "      <td>NaN</td>\n",
              "      <td>22</td>\n",
              "      <td>8</td>\n",
              "      <td>16.3</td>\n",
              "      <td>1.0</td>\n",
              "      <td>0</td>\n",
              "      <td>0</td>\n",
              "    </tr>\n",
              "  </tbody>\n",
              "</table>\n",
              "<p>5 rows × 25 columns</p>\n",
              "</div>\n",
              "      <button class=\"colab-df-convert\" onclick=\"convertToInteractive('df-79ce0308-fe65-4b44-a9fa-31e71b3c6e4b')\"\n",
              "              title=\"Convert this dataframe to an interactive table.\"\n",
              "              style=\"display:none;\">\n",
              "        \n",
              "  <svg xmlns=\"http://www.w3.org/2000/svg\" height=\"24px\"viewBox=\"0 0 24 24\"\n",
              "       width=\"24px\">\n",
              "    <path d=\"M0 0h24v24H0V0z\" fill=\"none\"/>\n",
              "    <path d=\"M18.56 5.44l.94 2.06.94-2.06 2.06-.94-2.06-.94-.94-2.06-.94 2.06-2.06.94zm-11 1L8.5 8.5l.94-2.06 2.06-.94-2.06-.94L8.5 2.5l-.94 2.06-2.06.94zm10 10l.94 2.06.94-2.06 2.06-.94-2.06-.94-.94-2.06-.94 2.06-2.06.94z\"/><path d=\"M17.41 7.96l-1.37-1.37c-.4-.4-.92-.59-1.43-.59-.52 0-1.04.2-1.43.59L10.3 9.45l-7.72 7.72c-.78.78-.78 2.05 0 2.83L4 21.41c.39.39.9.59 1.41.59.51 0 1.02-.2 1.41-.59l7.78-7.78 2.81-2.81c.8-.78.8-2.07 0-2.86zM5.41 20L4 18.59l7.72-7.72 1.47 1.35L5.41 20z\"/>\n",
              "  </svg>\n",
              "      </button>\n",
              "      \n",
              "  <style>\n",
              "    .colab-df-container {\n",
              "      display:flex;\n",
              "      flex-wrap:wrap;\n",
              "      gap: 12px;\n",
              "    }\n",
              "\n",
              "    .colab-df-convert {\n",
              "      background-color: #E8F0FE;\n",
              "      border: none;\n",
              "      border-radius: 50%;\n",
              "      cursor: pointer;\n",
              "      display: none;\n",
              "      fill: #1967D2;\n",
              "      height: 32px;\n",
              "      padding: 0 0 0 0;\n",
              "      width: 32px;\n",
              "    }\n",
              "\n",
              "    .colab-df-convert:hover {\n",
              "      background-color: #E2EBFA;\n",
              "      box-shadow: 0px 1px 2px rgba(60, 64, 67, 0.3), 0px 1px 3px 1px rgba(60, 64, 67, 0.15);\n",
              "      fill: #174EA6;\n",
              "    }\n",
              "\n",
              "    [theme=dark] .colab-df-convert {\n",
              "      background-color: #3B4455;\n",
              "      fill: #D2E3FC;\n",
              "    }\n",
              "\n",
              "    [theme=dark] .colab-df-convert:hover {\n",
              "      background-color: #434B5C;\n",
              "      box-shadow: 0px 1px 3px 1px rgba(0, 0, 0, 0.15);\n",
              "      filter: drop-shadow(0px 1px 2px rgba(0, 0, 0, 0.3));\n",
              "      fill: #FFFFFF;\n",
              "    }\n",
              "  </style>\n",
              "\n",
              "      <script>\n",
              "        const buttonEl =\n",
              "          document.querySelector('#df-79ce0308-fe65-4b44-a9fa-31e71b3c6e4b button.colab-df-convert');\n",
              "        buttonEl.style.display =\n",
              "          google.colab.kernel.accessAllowed ? 'block' : 'none';\n",
              "\n",
              "        async function convertToInteractive(key) {\n",
              "          const element = document.querySelector('#df-79ce0308-fe65-4b44-a9fa-31e71b3c6e4b');\n",
              "          const dataTable =\n",
              "            await google.colab.kernel.invokeFunction('convertToInteractive',\n",
              "                                                     [key], {});\n",
              "          if (!dataTable) return;\n",
              "\n",
              "          const docLinkHtml = 'Like what you see? Visit the ' +\n",
              "            '<a target=\"_blank\" href=https://colab.research.google.com/notebooks/data_table.ipynb>data table notebook</a>'\n",
              "            + ' to learn more about interactive tables.';\n",
              "          element.innerHTML = '';\n",
              "          dataTable['output_type'] = 'display_data';\n",
              "          await google.colab.output.renderOutput(dataTable, element);\n",
              "          const docLink = document.createElement('div');\n",
              "          docLink.innerHTML = docLinkHtml;\n",
              "          element.appendChild(docLink);\n",
              "        }\n",
              "      </script>\n",
              "    </div>\n",
              "  </div>\n",
              "  "
            ]
          },
          "metadata": {},
          "execution_count": 17
        }
      ],
      "source": [
        "team_data.head()"
      ]
    },
    {
      "cell_type": "code",
      "execution_count": null,
      "metadata": {
        "id": "vjDVIz3-4WTn"
      },
      "outputs": [],
      "source": [
        "years = list(range(2022, 2020, -1))\n",
        "all_matches = []"
      ]
    },
    {
      "cell_type": "code",
      "execution_count": null,
      "metadata": {
        "id": "-Vr_FQaO4YY7"
      },
      "outputs": [],
      "source": [
        "standings_url = \"https://fbref.com/en/comps/9/Premier-League-Stats\""
      ]
    },
    {
      "cell_type": "code",
      "execution_count": null,
      "metadata": {
        "id": "nSQjdnZi4aFK"
      },
      "outputs": [],
      "source": [
        "import time\n",
        "for year in years:\n",
        "    data = requests.get(standings_url)\n",
        "    soup = BeautifulSoup(data.text)\n",
        "    standings_table = soup.select('table.stats_table')[0]\n",
        "\n",
        "    links = [l.get(\"href\") for l in standings_table.find_all('a')]\n",
        "    links = [l for l in links if '/squads/' in l]\n",
        "    team_urls = [f\"https://fbref.com{l}\" for l in links]\n",
        "    \n",
        "    previous_season = soup.select(\"a.prev\")[0].get(\"href\")\n",
        "    standings_url = f\"https://fbref.com{previous_season}\"\n",
        "    \n",
        "    for team_url in team_urls:\n",
        "        team_name = team_url.split(\"/\")[-1].replace(\"-Stats\", \"\").replace(\"-\", \" \")\n",
        "        data = requests.get(team_url)\n",
        "        matches = pd.read_html(data.text, match=\"Scores & Fixtures\")[0]\n",
        "        soup = BeautifulSoup(data.text)\n",
        "        links = [l.get(\"href\") for l in soup.find_all('a')]\n",
        "        links = [l for l in links if l and 'all_comps/shooting/' in l]\n",
        "        data = requests.get(f\"https://fbref.com{links[0]}\")\n",
        "        shooting = pd.read_html(data.text, match=\"Shooting\")[0]\n",
        "        shooting.columns = shooting.columns.droplevel()\n",
        "        try:\n",
        "            team_data = matches.merge(shooting[[\"Date\", \"Sh\", \"SoT\", \"Dist\", \"FK\", \"PK\", \"PKatt\"]], on=\"Date\")\n",
        "        except ValueError:\n",
        "            continue\n",
        "        team_data = team_data[team_data[\"Comp\"] == \"Premier League\"]\n",
        "        \n",
        "        team_data[\"Season\"] = year\n",
        "        team_data[\"Team\"] = team_name\n",
        "        all_matches.append(team_data)\n",
        "        time.sleep(1)\n"
      ]
    },
    {
      "cell_type": "code",
      "execution_count": null,
      "metadata": {
        "id": "SfdCT6Vt4ck-"
      },
      "outputs": [],
      "source": [
        "len(all_matches)"
      ]
    },
    {
      "cell_type": "code",
      "execution_count": null,
      "metadata": {
        "id": "2XXhPmTa5q3S"
      },
      "outputs": [],
      "source": [
        "match_df = pd.concat(all_matches)"
      ]
    },
    {
      "cell_type": "code",
      "execution_count": null,
      "metadata": {
        "id": "-n59yZqS5s32"
      },
      "outputs": [],
      "source": [
        "match_df.columns = [c.lower() for c in match_df.columns]"
      ]
    },
    {
      "cell_type": "code",
      "execution_count": null,
      "metadata": {
        "id": "W6htSgRz5vWz"
      },
      "outputs": [],
      "source": [
        "match_df"
      ]
    },
    {
      "cell_type": "code",
      "execution_count": null,
      "metadata": {
        "id": "zL8ceUoK5xfb"
      },
      "outputs": [],
      "source": [
        "match_df.to_csv(\"pldata.csv\")"
      ]
    }
  ],
  "metadata": {
    "colab": {
      "provenance": []
    },
    "kernelspec": {
      "display_name": "Python 3 (ipykernel)",
      "language": "python",
      "name": "python3"
    },
    "language_info": {
      "codemirror_mode": {
        "name": "ipython",
        "version": 3
      },
      "file_extension": ".py",
      "mimetype": "text/x-python",
      "name": "python",
      "nbconvert_exporter": "python",
      "pygments_lexer": "ipython3",
      "version": "3.9.13"
    }
  },
  "nbformat": 4,
  "nbformat_minor": 0
}